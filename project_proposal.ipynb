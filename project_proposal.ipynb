{
 "cells": [
  {
   "cell_type": "code",
   "execution_count": null,
   "metadata": {},
   "outputs": [],
   "source": [
    "#Team Members: Alina Saratova, Roman Herrera, Kobe Lin, Valentina Vallalta.\n",
    "\n",
    "# CS181 Final Project - Exploration of word model programs playing the board game Codenames"
   ]
  },
  {
   "cell_type": "raw",
   "metadata": {},
   "source": [
    "How to play Codenames:\n",
    "There is a board generated with 25 words. Each word falls into a category: red, blue, neutral, assassin. \n",
    "Most people cannot see the classifications of the words, just the words themselves.\n",
    "There are two teams with multiple people on each team. Each team chooses a spymaster who is able to see the classification\n",
    "of the words. Based on the board, they have to give one word clues to their team so the team is able to guess their words\n",
    "Along with the one word clue, the spymaster has to give a number to signify how many words on the board are associated with the clue. The team guesses the words one by one and they may use up the entire number given along with one other guess. They are also able to give infinite clues. This is typically done at the end when the team should not have a limit on how many words they can guess. The team that starts has 9 words on the board because they have the advantage of going first and the second team has 8 words to guess. If they guess a word that is not their color, the team's turn ends automatically. If the team chooses the assassin, they automatically lose. "
   ]
  },
  {
   "cell_type": "markdown",
   "metadata": {},
   "source": [
    "Our proposal:\n",
    "For now we are working on three projects: \n",
    "(1) a program where we input a board and a clue and the program tells us how good of a clue it is. \n",
    "(2) Then we have a second program where given a clue, the program tells us what word(s) on the board most closely matches with the clue given. Essentially be the player/guesser to the spymasters. \n",
    "(3) Make a website with a flask that is able to run the first two functions. If we have time, we make the website with better functionality.\n",
    "(4) Figure out if there is a better algorithm or way to get the program to give us a decent clue based on the board. Our initial exploration failed here, but we can look into new ways of doing this. "
   ]
  },
  {
   "cell_type": "raw",
   "metadata": {},
   "source": [
    "Online resources and in class work we use to start off:\n",
    "\n",
    "We are building off of homework 7 which was word to vector model. Since Codenames is a word association game so we are using a computer program to do the associations for us. We have visuals to see how close words are to each other and are able to do comparison to see what words have in common. \n",
    "\n",
    "We are using an model given to us in class which is word2vec and comparing it to a googleAPI model which has over 3 million words in it (a lot more than word2 vec). \n",
    "\n",
    "We also used the functions m.distance, read_word2vec_model, and pd.read_csv(filename, header=None) to see how closely each word is related to each other. "
   ]
  },
  {
   "cell_type": "raw",
   "metadata": {},
   "source": [
    "What we did so far: \n",
    "\n",
    "-At first we thought we could  ask the program to give us a clue based on the team’s words but we found out that eventually it was not possible because our model did not have the parameters or the capacity to make all the connections between the words. Given 4 words it was spitting out weird clues like \"purple SUV van\" or \"scraggly purse snatcher\". Even with obvious connections, it was struggling a lot. We tested using the GoogleAPI since the word2vec definitely did not have enough words to make an educated guess. We then found out that the GoogleAPI was not good either because there is a lot of connections to be made to a word that a program just can't store by itself. We then modified our proposal and started working on small projects as well. \n",
    "-We imported a list of all possible words (as a csv file) in codenames so we can process these words easily.\n",
    "-We created GitHub repository where we have several files. One file is a jupyter notebook and for testing individual functions. Then we have a python program where we intend to run the entire program. Then we have this proposal in there.  \n",
    "-We created outlines for two functions which are the first two subprojects mentioned in our proposal.\n",
    "-We created functions that make two random boards. One is a player board and one is spymaster board. The player board can only see words on the board and the spymaster board where we see the classifications of the words. So a spymaster can see if a word is theirs, their opponent’s, a neutral word, or the assassin word. We eliminated the colors for some of the functions because it would be easier to do input if it weren’t based on a team. We are wokring on a Game or Board class that will incorporate color as a member variable there. \n",
    "-We also created three functions fully. \n",
    "    def make_codenames_guess( clue, LoW, m ) (with significant help from Prof Dodds), which defines m to be word-vector model from somewhere, LoW == any list of words (strings), clue == a single word (string). This ends up returning an array of tuples of the score and the word itself. This is a starting point for making a guess given a clue and a board of letters. We will have to figure out a scoring system to determine which are the best words to use and what the cut off should be for that.\n",
    "    def generate_board(model), which generates a board made of words at random so we don’t have to input words all the time. This is a function to help us train the program to determine words and to test it without actually having to generate a board on our own. We are returning a spymaster board, a regular player board, and who goes first in this case. \n",
    "    def guess_words_given_clue(clue, board, model): See code block shown below. \n"
   ]
  },
  {
   "cell_type": "code",
   "execution_count": null,
   "metadata": {},
   "outputs": [],
   "source": [
    "def guess_words_given_clue(clue, board, model): \n",
    "  \"\"\" \n",
    "  This function guesses which words are associated with a clue using word2vec model.\n",
    "  Inputs: \n",
    "  - clue is a tuple that contains a one word string and an integer that\n",
    "    is the number of words associated with the clue in the format (clueword, n)\n",
    "  - board is the current words on the board\n",
    "  - model is the word2vec model used for the guessing\n",
    "  \n",
    "  Outputs:\n",
    "  - a list of n number of words as guesses based on the clue in highest probability\n",
    "  \"\"\"\n",
    "  word, num_words = clue\n",
    "  rank = []\n",
    "\n",
    "  # Checks to see if the clue word is in the model\n",
    "  if word not in model:\n",
    "    print(f\"AHH the word {word} is not in the model. Try a different clue for me.\")\n",
    "    return []\n",
    "  \n",
    "  # Iterates through each word in the board and adds each tuple\n",
    "  # of the similarity_score from the similarity function and\n",
    "  # its corresponding_word to our rank list\n",
    "  for word in board:\n",
    "    score = wv.similarity(clue, word)\n",
    "    rank.append((score,word))\n",
    "\n",
    "  # Sort the list in descending score\n",
    "  rank = sorted(rank, reverse=True)\n",
    "  return rank[0:num_words]"
   ]
  },
  {
   "cell_type": "raw",
   "metadata": {},
   "source": [
    "5 week plan: \n",
    "Week 1 - outline of project, creating basic functions, setting up the board infrastructure, create a couple functions.\n",
    "Week 2 - Implement a game class so we have a better visualization of the board, determine scoring system to see which words can go through as clues or are valid guesses.\n",
    "Week 3 - Running entirety of python program and add functions as needed, creating the a class look for more word relationship we can implement to make our system better, Testing out our two word models and how well they can guess, \n",
    "Week 4 - Putting together a website that runs this program so this is up for general usage for anyone who wants to use our program.\n",
    "Week 5 - Adding a board flask so we can have a more high end website, exploring more.\n",
    "~This is very much subject to change. The website is a stretch goal and we are okay with not finishing that if we have really in detail stuff that we outlined for the first three weeks. \n",
    "~We also want to note that our extra stretch goal is: figuring out if there is a better algorithm or way to get the program to give us a decent clue based on the board\n",
    "~We also would love to hear input from people after our presentation"
   ]
  },
  {
   "cell_type": "raw",
   "metadata": {},
   "source": [
    "What we want done by the time of our presentation:\n",
    "Our presentation is this Monday, we are hoping to get through week 1 stuff by then."
   ]
  },
  {
   "cell_type": "raw",
   "metadata": {},
   "source": [
    "What we want done by the end of the project:\n",
    "-Have a program that compares word models by playing variations of the Codenames game.\n",
    "-Compare word models and their functionality and ability to make connections between words. \n",
    "-Have a website up and running that will be able to generate a board, test different word models, and tell the user if they have given a good clue based on the words on the board. (This is a stretch goal)"
   ]
  }
 ],
 "metadata": {
  "kernelspec": {
   "display_name": "Python 3",
   "language": "python",
   "name": "python3"
  },
  "language_info": {
   "codemirror_mode": {
    "name": "ipython",
    "version": 3
   },
   "file_extension": ".py",
   "mimetype": "text/x-python",
   "name": "python",
   "nbconvert_exporter": "python",
   "pygments_lexer": "ipython3",
   "version": "3.8.2"
  }
 },
 "nbformat": 4,
 "nbformat_minor": 4
}
