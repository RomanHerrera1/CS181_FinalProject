{
 "cells": [
  {
   "cell_type": "markdown",
   "metadata": {},
   "source": [
    "# CS181 Final Project - Exploration of word model programs playing the board game Codenames\n",
    "\n",
    "### Team Members: Alina Saratova, Roman Herrera, Kobe Lin, Valentina Vallalta."
   ]
  },
  {
   "cell_type": "markdown",
   "metadata": {},
   "source": [
    "## Initial Progress"
   ]
  },
  {
   "cell_type": "markdown",
   "metadata": {},
   "source": [
    "Our initial explorations have been somewhat smooth. We have not encountered any software/library issues, such as import statements acting up or such. We did find that downloading/using Google’s word2vec model, but with some searching on the internet, we found a temporary solution. We came to realize in our initial explorations that our original goal was likely not feasible (due to word2vec not truly capturing the essence of words) so we changed the scope of our goals to test word2vec, rather than to assume it works.\n"
   ]
  },
  {
   "cell_type": "code",
   "execution_count": null,
   "metadata": {},
   "outputs": [],
   "source": []
  },
  {
   "cell_type": "markdown",
   "metadata": {},
   "source": [
    "We have tried using the word2vec model from the class and from Google. We found that both work within reason. The Google model has significantly more words, so we have to worry less about words not being in the model. However, it is very slow to load and has too many words for its own good sometimes. We have also used gensim to run all of the word vector functions, and that has been working quite well so far."
   ]
  },
  {
   "cell_type": "markdown",
   "metadata": {},
   "source": [
    "Using different models of word2vec has been more difficult than expected. We were hoping to just download and use Google’s model, however, the site to do so is outdated and so the word2vec model has to be downloaded from other sites/github, with this being significantly more complicated. We still have not truly been able to download this model and use it. Rather, we found a temporary solution using an api to load in the model. Using the word vector functions through gensim have actually been a lot easier to use, with many of the needed functions already being used in hw7pr1.\n"
   ]
  },
  {
   "cell_type": "markdown",
   "metadata": {},
   "source": [
    "We have gotten the word2vec model to run smoothly when guessing words given a clue. This is more within its functionality so this is expected. However, we will begin to push its limits, which will likely start to break it down. We have also gotten gensim to work on various word2vec models.\n"
   ]
  },
  {
   "cell_type": "markdown",
   "metadata": {},
   "source": [
    "Currently, we have code that creates a Codenames board, both a player view and a spymaster view, by reading in the list of words from a csv file. It is limited in the fact that we can only use words in the models we are using to avoid errors. We also have a function that guesses a word from a clue"
   ]
  },
  {
   "cell_type": "markdown",
   "metadata": {},
   "source": [
    "We are thinking of creating a Board class to make interacting with it easier. We want to test our functions more and  We are also working on a function that rates how well a clue is based on intended words. We want to come up with different scoring systems to choose from. We also want to write a function that produces a hint based on a board so that the API takes the role of the spymaster and see how well it can produce hints. In this function, we will need to remove a lot of outputs so that they abide with the Codenames rules. Our final goal is to have these models interacting with humans, as either spymasters or players, in order to play the game. \n"
   ]
  },
  {
   "cell_type": "markdown",
   "metadata": {},
   "source": [
    "As mentioned before, we found that using the word2vec model as we originally intended would not have been feasible (or at least, to perform as we initially intended). As such, with our new focused goal on testing word2vec itself, we have re-established our plans moving forwards in terms of what we will need to write and develop for our project. \n"
   ]
  },
  {
   "cell_type": "markdown",
   "metadata": {},
   "source": [
    "Our goal for this week is to test out different word models and how well they can guess, implement a Board class and determine a scoring system for the hints."
   ]
  },
  {
   "cell_type": "markdown",
   "metadata": {},
   "source": [
    "Again, as stated earlier, the word2vec model not being quite as functional as we would have liked has forced our goals to be more tame/ or require a lot more work on our end. Since we cannot confirm how long everything will take, we have a lot of stretch goals, like using Flask, that we will try to do if time permits but based on our progress, we are hopeful that we will have time to get to them. However, we have noticed that in order to create some functionality (such as the machine being able to play the game itself), we would need to create more functions (like generating a board).\n"
   ]
  },
  {
   "cell_type": "markdown",
   "metadata": {},
   "source": [
    "As a team, we would like to find a more efficient way to get through the work we want to do. Whether this be through planning further ahead to see what our next steps would be or dividing up current tasks we have already, efficiently working through what we want to will aid us in accomplishing all of our goals. "
   ]
  }
 ],
 "metadata": {
  "kernelspec": {
   "display_name": "Python 3",
   "language": "python",
   "name": "python3"
  },
  "language_info": {
   "codemirror_mode": {
    "name": "ipython",
    "version": 3
   },
   "file_extension": ".py",
   "mimetype": "text/x-python",
   "name": "python",
   "nbconvert_exporter": "python",
   "pygments_lexer": "ipython3",
   "version": "3.7.4"
  }
 },
 "nbformat": 4,
 "nbformat_minor": 2
}
