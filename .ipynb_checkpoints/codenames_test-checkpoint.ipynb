{
 "cells": [
  {
   "cell_type": "markdown",
   "metadata": {},
   "source": [
    "<h1>This is the testing file for the CS181 Final Project.<h1>"
   ]
  },
  {
   "cell_type": "code",
   "execution_count": 1,
   "metadata": {},
   "outputs": [],
   "source": [
    "#\n",
    "# Final Project ~ cs181 spring 2021\n",
    "#\n",
    "\n",
    "#\n",
    "# Name(s): Roman Herrera, Valentina Vallalta, Alina Saratova, Kobe Lin\n",
    "#\n",
    "\n",
    "# our libraries\n",
    "import numpy as np\n",
    "import matplotlib.pyplot as plt\n",
    "import seaborn as sns\n",
    "sns.set(style=\"darkgrid\")\n",
    "import nltk\n",
    "import textblob\n",
    "import pandas as pd\n",
    "from textblob import Word\n",
    "from textblob.wordnet import VERB\n",
    "from textblob.wordnet import Synset\n",
    "from textblob import TextBlob\n",
    "from gensim.models import KeyedVectors\n",
    "from gensim import matutils\n",
    "import random"
   ]
  },
  {
   "cell_type": "code",
   "execution_count": 2,
   "metadata": {},
   "outputs": [],
   "source": [
    "# Takes awhile so careful running!\n",
    "\n",
    "import gensim.downloader as api\n",
    "wv = api.load('word2vec-google-news-300')"
   ]
  },
  {
   "cell_type": "code",
   "execution_count": 3,
   "metadata": {},
   "outputs": [],
   "source": [
    "# Function from hw7pr1 \n",
    "\n",
    "def read_word2vec_model(filename):  \n",
    "    \"\"\" a function that reads a word2vec model from the file\n",
    "        \"word2vec_model.txt\" and returns a model object that\n",
    "        we will usually name m or model...\n",
    "    \"\"\"\n",
    "    print(\"Starting to load the model in \", filename, \"...\")\n",
    "    m = KeyedVectors.load_word2vec_format(filename, binary=False)\n",
    "    print(\"Model loaded.\\n\")\n",
    "\n",
    "    # let's print some attributes\n",
    "    print(\"The model built is\", m, \"\\n\")\n",
    "    print(\"The vocabulary has\", len(m.vocab), \"words\")   # The vocabulary has 43981 words\n",
    "    print(\"Each word is a vector of size\", m.vector_size)  # 300\n",
    "    print(\"\\nTry m.get_vector('python') to see a the vector for 'python'!\\n\")\n",
    "    m.init_sims()  # freezes the model, m, as-is (no more training)\n",
    "    # we weren't going to train more, so no worries (in week7, at least)\n",
    "    return m"
   ]
  },
  {
   "cell_type": "code",
   "execution_count": 4,
   "metadata": {},
   "outputs": [
    {
     "name": "stdout",
     "output_type": "stream",
     "text": [
      "Wordlist.csv : file read into a pandas dataframe.\n"
     ]
    }
   ],
   "source": [
    "# let's read in our word data...\n",
    "# \n",
    "# for read_csv, use header=0 when row 0 is a header row\n",
    "# \n",
    "filename = 'Wordlist.csv'\n",
    "df = pd.read_csv(filename, header=None)   # encoding=\"latin1\" et al.\n",
    "print(f\"{filename} : file read into a pandas dataframe.\")"
   ]
  },
  {
   "cell_type": "code",
   "execution_count": 5,
   "metadata": {},
   "outputs": [
    {
     "data": {
      "text/html": [
       "<div>\n",
       "<style scoped>\n",
       "    .dataframe tbody tr th:only-of-type {\n",
       "        vertical-align: middle;\n",
       "    }\n",
       "\n",
       "    .dataframe tbody tr th {\n",
       "        vertical-align: top;\n",
       "    }\n",
       "\n",
       "    .dataframe thead th {\n",
       "        text-align: right;\n",
       "    }\n",
       "</style>\n",
       "<table border=\"1\" class=\"dataframe\">\n",
       "  <thead>\n",
       "    <tr style=\"text-align: right;\">\n",
       "      <th></th>\n",
       "      <th>0</th>\n",
       "      <th>1</th>\n",
       "    </tr>\n",
       "  </thead>\n",
       "  <tbody>\n",
       "    <tr>\n",
       "      <th>0</th>\n",
       "      <td>Hollywood</td>\n",
       "      <td>Well</td>\n",
       "    </tr>\n",
       "    <tr>\n",
       "      <th>1</th>\n",
       "      <td>Screen</td>\n",
       "      <td>Fair</td>\n",
       "    </tr>\n",
       "    <tr>\n",
       "      <th>2</th>\n",
       "      <td>Play</td>\n",
       "      <td>Tooth</td>\n",
       "    </tr>\n",
       "    <tr>\n",
       "      <th>3</th>\n",
       "      <td>Marble</td>\n",
       "      <td>Staff</td>\n",
       "    </tr>\n",
       "    <tr>\n",
       "      <th>4</th>\n",
       "      <td>Dinosaur</td>\n",
       "      <td>Bill</td>\n",
       "    </tr>\n",
       "    <tr>\n",
       "      <th>...</th>\n",
       "      <td>...</td>\n",
       "      <td>...</td>\n",
       "    </tr>\n",
       "    <tr>\n",
       "      <th>195</th>\n",
       "      <td>Snowman</td>\n",
       "      <td>Helicopter</td>\n",
       "    </tr>\n",
       "    <tr>\n",
       "      <th>196</th>\n",
       "      <td>Beat</td>\n",
       "      <td>Hole</td>\n",
       "    </tr>\n",
       "    <tr>\n",
       "      <th>197</th>\n",
       "      <td>Jam</td>\n",
       "      <td>Organ</td>\n",
       "    </tr>\n",
       "    <tr>\n",
       "      <th>198</th>\n",
       "      <td>Copper</td>\n",
       "      <td>Jack</td>\n",
       "    </tr>\n",
       "    <tr>\n",
       "      <th>199</th>\n",
       "      <td>Beach</td>\n",
       "      <td>Charge</td>\n",
       "    </tr>\n",
       "  </tbody>\n",
       "</table>\n",
       "<p>200 rows × 2 columns</p>\n",
       "</div>"
      ],
      "text/plain": [
       "             0           1\n",
       "0    Hollywood        Well\n",
       "1       Screen        Fair\n",
       "2         Play       Tooth\n",
       "3       Marble       Staff\n",
       "4     Dinosaur        Bill\n",
       "..         ...         ...\n",
       "195    Snowman  Helicopter\n",
       "196       Beat        Hole\n",
       "197        Jam       Organ\n",
       "198     Copper        Jack\n",
       "199      Beach      Charge\n",
       "\n",
       "[200 rows x 2 columns]"
      ]
     },
     "execution_count": 5,
     "metadata": {},
     "output_type": "execute_result"
    }
   ],
   "source": [
    "df"
   ]
  },
  {
   "cell_type": "code",
   "execution_count": 6,
   "metadata": {},
   "outputs": [
    {
     "name": "stdout",
     "output_type": "stream",
     "text": [
      "[['Hollywood' 'Well']\n",
      " ['Screen' 'Fair']\n",
      " ['Play' 'Tooth']\n",
      " ['Marble' 'Staff']\n",
      " ['Dinosaur' 'Bill']\n",
      " ['Cat' 'Shot']\n",
      " ['Pitch' 'King']\n",
      " ['Bond' 'Pan']\n",
      " ['Greece' 'Square']\n",
      " ['Deck' 'Buffalo']\n",
      " ['Spike' 'Scientist']\n",
      " ['Center' 'Chick']\n",
      " ['Vacuum' 'Atlantis']\n",
      " ['Unicorn' 'Spy']\n",
      " ['Undertaker' 'Mail']\n",
      " ['Sock' 'Nut']\n",
      " ['Loch_Ness' 'Log']\n",
      " ['Horse' 'Pirate']\n",
      " ['Berlin' 'Face']\n",
      " ['Platypus' 'Stick']\n",
      " ['Port' 'Disease']\n",
      " ['Chest' 'Yard']\n",
      " ['Box' 'Mount']\n",
      " ['Compound' 'Slug']\n",
      " ['Ship' 'Dice']\n",
      " ['Watch' 'Lead']\n",
      " ['Space' 'Hook']\n",
      " ['Flute' 'Carrot']\n",
      " ['Tower' 'Poison']\n",
      " ['Death' 'Stock']\n",
      " ['Foot' 'New_York']\n",
      " ['Torch' 'State']\n",
      " ['Arm' 'Bermuda']\n",
      " ['Figure' 'Park']\n",
      " ['Mine' 'Turkey']\n",
      " ['Suit' 'Chocolate']\n",
      " ['Crane' 'Trip']\n",
      " ['Beijing' 'Racket']\n",
      " ['Mass' 'Bat']\n",
      " ['Microscope' 'Jet']\n",
      " ['Engine' 'Shakespeare']\n",
      " ['China' 'Bolt']\n",
      " ['Straw' 'Switch']\n",
      " ['Pants' 'Wall']\n",
      " ['Europe' 'Soul']\n",
      " ['Boot' 'Ghost']\n",
      " ['Princess' 'Time']\n",
      " ['Link' 'Dance']\n",
      " ['Luck' 'Amazon']\n",
      " ['Olive' 'Grace']\n",
      " ['Palm' 'Moscow']\n",
      " ['Teacher' 'Pumpkin']\n",
      " ['Thumb' 'Antarctica']\n",
      " ['Octopus' 'Whip']\n",
      " ['Hood' 'Heart']\n",
      " ['Tie' 'Table']\n",
      " ['Doctor' 'Ball']\n",
      " ['Wake' 'Fighter']\n",
      " ['Cricket' 'Cold']\n",
      " ['Millionaire' 'Day']\n",
      " ['Spring' 'Court']\n",
      " ['Match' 'Iron']\n",
      " ['Diamond' 'Whale']\n",
      " ['Centaur' 'Shadow']\n",
      " ['March' 'Contract']\n",
      " ['Roulette' 'Mercury']\n",
      " ['Dog' 'Conductor']\n",
      " ['Cross' 'Seal']\n",
      " ['Wave' 'Car']\n",
      " ['Duck' 'Ring']\n",
      " ['Wind' 'Kid']\n",
      " ['Spot' 'Piano']\n",
      " ['Skyscraper' 'Laser']\n",
      " ['Paper' 'Sound']\n",
      " ['Apple' 'Pole']\n",
      " ['Oil' 'Superhero']\n",
      " ['Cook' 'Revolution']\n",
      " ['Fly' 'Pit']\n",
      " ['Cast' 'Gas']\n",
      " ['Bear' 'Glass']\n",
      " ['Pin' 'Washington']\n",
      " ['Thief' 'Bark']\n",
      " ['Trunk' 'Snow']\n",
      " ['America' 'Ivory']\n",
      " ['Novel' 'Pipe']\n",
      " ['Cell' 'Cover']\n",
      " ['Bow' 'Degree']\n",
      " ['Model' 'Tokyo']\n",
      " ['Knife' 'Church']\n",
      " ['Knight' 'Pie']\n",
      " ['Tube' 'Point']\n",
      " ['Block' 'France']\n",
      " ['Comic' 'Mammoth']\n",
      " ['Fish' 'Cotton']\n",
      " ['Bridge' 'Robin']\n",
      " ['Moon' 'Net']\n",
      " ['Part' 'Bugle']\n",
      " ['Aztec' 'Maple']\n",
      " ['Smuggler' 'England']\n",
      " ['Train' 'Field']\n",
      " ['Embassy' 'Robot']\n",
      " ['Pupil' 'Plot']\n",
      " ['Scuba_Diver' 'Africa']\n",
      " ['Ice' 'Tag']\n",
      " ['Tap' 'Mouth']\n",
      " ['Code' 'Kiwi']\n",
      " ['Shoe' 'Mole']\n",
      " ['Server' 'School']\n",
      " ['Club' 'Sink']\n",
      " ['Row' 'Pistol']\n",
      " ['Pyramid' 'Opera']\n",
      " ['Bug' 'Mint']\n",
      " ['Penguin' 'Root']\n",
      " ['Pound' 'Sub']\n",
      " ['Himalayas' 'Crown']\n",
      " ['Czech' 'Back']\n",
      " ['Rome' 'Plane']\n",
      " ['Eye' 'Mexico']\n",
      " ['Board' 'Cloak']\n",
      " ['Bed' 'Circle']\n",
      " ['Tablet' 'Slip']\n",
      " ['Australia' 'Limousine']\n",
      " ['Green' 'Pass']\n",
      " ['Egypt' 'Theater']\n",
      " ['Line' 'Plate']\n",
      " ['Lawyer' 'Satellite']\n",
      " ['Witch' 'Ketchup']\n",
      " ['Parachute' 'Hotel']\n",
      " ['Crash' 'Tail']\n",
      " ['Gold' 'Tick']\n",
      " ['Note' 'Ground']\n",
      " ['Lion' 'Police']\n",
      " ['Plastic' 'Dwarf']\n",
      " ['Web' 'Fan']\n",
      " ['Ambulance' 'Dress']\n",
      " ['Hospital' 'Saturn']\n",
      " ['Spell' 'Grass']\n",
      " ['Lock' 'Brush']\n",
      " ['Water' 'Chair']\n",
      " ['London' 'Rock']\n",
      " ['Casino' 'Pilot']\n",
      " ['Cycle' 'Telescope']\n",
      " ['Bar' 'File']\n",
      " ['Cliff' 'Lab']\n",
      " ['Round' 'India']\n",
      " ['Bomb' 'Ruler']\n",
      " ['Giant' 'Nail']\n",
      " ['Hand' 'Swing']\n",
      " ['Ninja' 'Olympus']\n",
      " ['Rose' 'Change']\n",
      " ['Date' 'Drill']\n",
      " ['Stream' 'Glove']\n",
      " ['Missile' 'Paste']\n",
      " ['Scale' 'Fall']\n",
      " ['Band' 'Fire']\n",
      " ['Angel' 'Spider']\n",
      " ['Press' 'Spine']\n",
      " ['Berry' 'Soldier']\n",
      " ['Card' 'Horn']\n",
      " ['Check' 'Queen']\n",
      " ['Draft' 'Ham']\n",
      " ['Head' 'Litter']\n",
      " ['Lap' 'Life']\n",
      " ['Orange' 'Temple']\n",
      " ['Ice_Cream' 'Rabbit']\n",
      " ['Film' 'Button']\n",
      " ['Washer' 'Game']\n",
      " ['Pool' 'Star']\n",
      " ['Shark' 'Jupiter']\n",
      " ['Van' 'Vet']\n",
      " ['String' 'Night']\n",
      " ['Calf' 'Air']\n",
      " ['Hawk' 'Battery']\n",
      " ['Eagle' 'Genius']\n",
      " ['Needle' 'Shop']\n",
      " ['Forest' 'Bottle']\n",
      " ['Dragon' 'Stadium']\n",
      " ['Key' 'Alien']\n",
      " ['Belt' 'Light']\n",
      " ['Cap' 'Triangle']\n",
      " ['Lemon' 'Bell']\n",
      " ['Nurse' 'Leprechaun']\n",
      " ['Drop' 'Phoenix']\n",
      " ['Track' 'Force']\n",
      " ['Bank' 'Boom']\n",
      " ['Germany' 'Fork']\n",
      " ['Worm' 'Alps']\n",
      " ['Ray' 'Post']\n",
      " ['Capital' 'Fence']\n",
      " ['Strike' 'Kangaroo']\n",
      " ['War' 'Mouse']\n",
      " ['Concert' 'Mug']\n",
      " ['Honey' 'Horseshoe']\n",
      " ['Canada' 'Scorpion']\n",
      " ['Buck' 'Agent']\n",
      " ['Snowman' 'Helicopter']\n",
      " ['Beat' 'Hole']\n",
      " ['Jam' 'Organ']\n",
      " ['Copper' 'Jack']\n",
      " ['Beach' 'Charge']]\n"
     ]
    }
   ],
   "source": [
    "A = df.values    # .values gets the numpy array\n",
    "print(A)"
   ]
  },
  {
   "cell_type": "code",
   "execution_count": 7,
   "metadata": {},
   "outputs": [
    {
     "data": {
      "text/plain": [
       "'Snowman'"
      ]
     },
     "execution_count": 7,
     "metadata": {},
     "output_type": "execute_result"
    }
   ],
   "source": [
    "# Choose a random tuple with a random word\n",
    "\n",
    "random.choice(A)[random.randint(0, 1)]"
   ]
  },
  {
   "cell_type": "code",
   "execution_count": 8,
   "metadata": {},
   "outputs": [],
   "source": [
    "player_board = []\n",
    "spymaster_board = []\n",
    "not_valid = []\n",
    "\n",
    "num_red = 0\n",
    "num_blue = 0\n",
    "num_bystander = 7\n",
    "num_assassin = 1\n",
    "\n",
    "if random.randint(0,1) == 1:\n",
    "    num_red = 9\n",
    "    num_blue = 8\n",
    "else:\n",
    "    num_red = 8\n",
    "    num_blue = 9\n",
    "\n",
    "options = [\"red\"] * num_red + [\"blue\"] * num_blue + [\"bystander\"] * num_bystander + [\"assassin\"] * num_assassin\n",
    "\n",
    "while len(player_board) < 25:\n",
    "    rand_card = list(random.choice(A))\n",
    "\n",
    "    if (rand_card not in not_valid):   # Checks to see if the given card was already used\n",
    "        \n",
    "        # Adds the chosen card to the list of used cards\n",
    "        not_valid.append(rand_card)\n",
    "        rand_word = rand_card[random.randint(0, 1)]\n",
    "        \n",
    "        # Adds the random word to the player board\n",
    "        player_board.append(rand_word)\n",
    "        \n",
    "        # Adds the random word to the spymaster board with a \"team\" attached and removes that option from options\n",
    "        rand_option = random.choice(options)\n",
    "        spymaster_board.append((rand_word, rand_option))\n",
    "        options.remove(rand_option)\n"
   ]
  },
  {
   "cell_type": "code",
   "execution_count": 9,
   "metadata": {},
   "outputs": [],
   "source": [
    "from itertools import combinations"
   ]
  },
  {
   "cell_type": "code",
   "execution_count": 10,
   "metadata": {},
   "outputs": [
    {
     "ename": "SyntaxError",
     "evalue": "unexpected EOF while parsing (<ipython-input-10-22185c756678>, line 11)",
     "output_type": "error",
     "traceback": [
      "\u001b[0;36m  File \u001b[0;32m\"<ipython-input-10-22185c756678>\"\u001b[0;36m, line \u001b[0;32m11\u001b[0m\n\u001b[0;31m    \u001b[0m\n\u001b[0m    ^\u001b[0m\n\u001b[0;31mSyntaxError\u001b[0m\u001b[0;31m:\u001b[0m unexpected EOF while parsing\n"
     ]
    }
   ],
   "source": [
    "def give_clue(own_words, model, opponent_words = [], neutral_words = [], assassin_word = []):\n",
    "    valid_combo = []\n",
    "    max_score = 0\n",
    "    \n",
    "    \n",
    "    \n",
    "    for i in range(min(5, len(own_words)), 1, -1):\n",
    "        comb = combinations(own_words, i)\n",
    "        for combo in comb:\n",
    "            \n",
    "    "
   ]
  },
  {
   "cell_type": "code",
   "execution_count": 11,
   "metadata": {},
   "outputs": [],
   "source": [
    "comb = combinations([\"Hello\", \"World\", \"Hello World\"], 2)"
   ]
  },
  {
   "cell_type": "code",
   "execution_count": 12,
   "metadata": {},
   "outputs": [
    {
     "name": "stdout",
     "output_type": "stream",
     "text": [
      "[('Hello', 'World'), ('Hello', 'Hello World'), ('World', 'Hello World')]\n"
     ]
    }
   ],
   "source": [
    "print(list(comb))"
   ]
  },
  {
   "cell_type": "code",
   "execution_count": 13,
   "metadata": {},
   "outputs": [
    {
     "ename": "KeyboardInterrupt",
     "evalue": "",
     "output_type": "error",
     "traceback": [
      "\u001b[0;31m---------------------------------------------------------------------------\u001b[0m",
      "\u001b[0;31mKeyboardInterrupt\u001b[0m                         Traceback (most recent call last)",
      "\u001b[0;32m<ipython-input-13-d0010d6ef96f>\u001b[0m in \u001b[0;36m<module>\u001b[0;34m\u001b[0m\n\u001b[0;32m----> 1\u001b[0;31m \u001b[0mprint\u001b[0m\u001b[0;34m(\u001b[0m\u001b[0mwv\u001b[0m\u001b[0;34m.\u001b[0m\u001b[0mmost_similar\u001b[0m\u001b[0;34m(\u001b[0m\u001b[0mpositive\u001b[0m\u001b[0;34m=\u001b[0m\u001b[0;34m[\u001b[0m\u001b[0;34m'robin'\u001b[0m\u001b[0;34m,\u001b[0m \u001b[0;34m'kiwi'\u001b[0m\u001b[0;34m,\u001b[0m \u001b[0;34m'phoenix'\u001b[0m\u001b[0;34m]\u001b[0m\u001b[0;34m,\u001b[0m \u001b[0mtopn\u001b[0m\u001b[0;34m=\u001b[0m\u001b[0;36m10\u001b[0m\u001b[0;34m)\u001b[0m\u001b[0;34m)\u001b[0m\u001b[0;34m\u001b[0m\u001b[0;34m\u001b[0m\u001b[0m\n\u001b[0m",
      "\u001b[0;32m~/opt/anaconda3/lib/python3.7/site-packages/gensim/models/keyedvectors.py\u001b[0m in \u001b[0;36mmost_similar\u001b[0;34m(self, positive, negative, topn, restrict_vocab, indexer)\u001b[0m\n\u001b[1;32m    529\u001b[0m             \u001b[0mnegative\u001b[0m \u001b[0;34m=\u001b[0m \u001b[0;34m[\u001b[0m\u001b[0;34m]\u001b[0m\u001b[0;34m\u001b[0m\u001b[0;34m\u001b[0m\u001b[0m\n\u001b[1;32m    530\u001b[0m \u001b[0;34m\u001b[0m\u001b[0m\n\u001b[0;32m--> 531\u001b[0;31m         \u001b[0mself\u001b[0m\u001b[0;34m.\u001b[0m\u001b[0minit_sims\u001b[0m\u001b[0;34m(\u001b[0m\u001b[0;34m)\u001b[0m\u001b[0;34m\u001b[0m\u001b[0;34m\u001b[0m\u001b[0m\n\u001b[0m\u001b[1;32m    532\u001b[0m \u001b[0;34m\u001b[0m\u001b[0m\n\u001b[1;32m    533\u001b[0m         \u001b[0;32mif\u001b[0m \u001b[0misinstance\u001b[0m\u001b[0;34m(\u001b[0m\u001b[0mpositive\u001b[0m\u001b[0;34m,\u001b[0m \u001b[0mstring_types\u001b[0m\u001b[0;34m)\u001b[0m \u001b[0;32mand\u001b[0m \u001b[0;32mnot\u001b[0m \u001b[0mnegative\u001b[0m\u001b[0;34m:\u001b[0m\u001b[0;34m\u001b[0m\u001b[0;34m\u001b[0m\u001b[0m\n",
      "\u001b[0;32m~/opt/anaconda3/lib/python3.7/site-packages/gensim/models/keyedvectors.py\u001b[0m in \u001b[0;36minit_sims\u001b[0;34m(self, replace)\u001b[0m\n\u001b[1;32m   1352\u001b[0m         \u001b[0;32mif\u001b[0m \u001b[0mgetattr\u001b[0m\u001b[0;34m(\u001b[0m\u001b[0mself\u001b[0m\u001b[0;34m,\u001b[0m \u001b[0;34m'vectors_norm'\u001b[0m\u001b[0;34m,\u001b[0m \u001b[0;32mNone\u001b[0m\u001b[0;34m)\u001b[0m \u001b[0;32mis\u001b[0m \u001b[0;32mNone\u001b[0m \u001b[0;32mor\u001b[0m \u001b[0mreplace\u001b[0m\u001b[0;34m:\u001b[0m\u001b[0;34m\u001b[0m\u001b[0;34m\u001b[0m\u001b[0m\n\u001b[1;32m   1353\u001b[0m             \u001b[0mlogger\u001b[0m\u001b[0;34m.\u001b[0m\u001b[0minfo\u001b[0m\u001b[0;34m(\u001b[0m\u001b[0;34m\"precomputing L2-norms of word weight vectors\"\u001b[0m\u001b[0;34m)\u001b[0m\u001b[0;34m\u001b[0m\u001b[0;34m\u001b[0m\u001b[0m\n\u001b[0;32m-> 1354\u001b[0;31m             \u001b[0mself\u001b[0m\u001b[0;34m.\u001b[0m\u001b[0mvectors_norm\u001b[0m \u001b[0;34m=\u001b[0m \u001b[0m_l2_norm\u001b[0m\u001b[0;34m(\u001b[0m\u001b[0mself\u001b[0m\u001b[0;34m.\u001b[0m\u001b[0mvectors\u001b[0m\u001b[0;34m,\u001b[0m \u001b[0mreplace\u001b[0m\u001b[0;34m=\u001b[0m\u001b[0mreplace\u001b[0m\u001b[0;34m)\u001b[0m\u001b[0;34m\u001b[0m\u001b[0;34m\u001b[0m\u001b[0m\n\u001b[0m\u001b[1;32m   1355\u001b[0m \u001b[0;34m\u001b[0m\u001b[0m\n\u001b[1;32m   1356\u001b[0m     \u001b[0;32mdef\u001b[0m \u001b[0mrelative_cosine_similarity\u001b[0m\u001b[0;34m(\u001b[0m\u001b[0mself\u001b[0m\u001b[0;34m,\u001b[0m \u001b[0mwa\u001b[0m\u001b[0;34m,\u001b[0m \u001b[0mwb\u001b[0m\u001b[0;34m,\u001b[0m \u001b[0mtopn\u001b[0m\u001b[0;34m=\u001b[0m\u001b[0;36m10\u001b[0m\u001b[0;34m)\u001b[0m\u001b[0;34m:\u001b[0m\u001b[0;34m\u001b[0m\u001b[0;34m\u001b[0m\u001b[0m\n",
      "\u001b[0;32m~/opt/anaconda3/lib/python3.7/site-packages/gensim/models/keyedvectors.py\u001b[0m in \u001b[0;36m_l2_norm\u001b[0;34m(m, replace)\u001b[0m\n\u001b[1;32m   2382\u001b[0m \u001b[0;34m\u001b[0m\u001b[0m\n\u001b[1;32m   2383\u001b[0m     \"\"\"\n\u001b[0;32m-> 2384\u001b[0;31m     \u001b[0mdist\u001b[0m \u001b[0;34m=\u001b[0m \u001b[0msqrt\u001b[0m\u001b[0;34m(\u001b[0m\u001b[0;34m(\u001b[0m\u001b[0mm\u001b[0m \u001b[0;34m**\u001b[0m \u001b[0;36m2\u001b[0m\u001b[0;34m)\u001b[0m\u001b[0;34m.\u001b[0m\u001b[0msum\u001b[0m\u001b[0;34m(\u001b[0m\u001b[0;34m-\u001b[0m\u001b[0;36m1\u001b[0m\u001b[0;34m)\u001b[0m\u001b[0;34m)\u001b[0m\u001b[0;34m[\u001b[0m\u001b[0;34m...\u001b[0m\u001b[0;34m,\u001b[0m \u001b[0mnewaxis\u001b[0m\u001b[0;34m]\u001b[0m\u001b[0;34m\u001b[0m\u001b[0;34m\u001b[0m\u001b[0m\n\u001b[0m\u001b[1;32m   2385\u001b[0m     \u001b[0;32mif\u001b[0m \u001b[0mreplace\u001b[0m\u001b[0;34m:\u001b[0m\u001b[0;34m\u001b[0m\u001b[0;34m\u001b[0m\u001b[0m\n\u001b[1;32m   2386\u001b[0m         \u001b[0mm\u001b[0m \u001b[0;34m/=\u001b[0m \u001b[0mdist\u001b[0m\u001b[0;34m\u001b[0m\u001b[0;34m\u001b[0m\u001b[0m\n",
      "\u001b[0;31mKeyboardInterrupt\u001b[0m: "
     ]
    }
   ],
   "source": [
    "print(wv.most_similar(positive=['robin', 'kiwi', 'phoenix'], topn=10))"
   ]
  },
  {
   "cell_type": "code",
   "execution_count": 14,
   "metadata": {},
   "outputs": [],
   "source": [
    "def first_valid_word(words, similar_words, threshold = 0.6):\n",
    "  \"\"\" \n",
    "  helper function that returns the first word that \n",
    "  fits the qualifications for a clue and its score\n",
    "  \"\"\"\n",
    "  do_not_put = \"0123456789!_?*&\"\n",
    "  for clue_word in similar_words:\n",
    "    if clue_word[1] > threshold:\n",
    "      curr = clue_word[0]\n",
    "\n",
    "      words_not_in_curr = True\n",
    "      for word in words:\n",
    "        if word in curr:\n",
    "          words_not_in_curr = False  \n",
    "      \n",
    "      if words_not_in_curr and (curr not in words) and does_not_share(curr, do_not_put):\n",
    "        return clue_word\n",
    "  return (None, 0)"
   ]
  },
  {
   "cell_type": "code",
   "execution_count": 103,
   "metadata": {},
   "outputs": [],
   "source": [
    "def give_clue(own_words, model, opponent_words = [], neutral_words = [], assassin_word = \"\"):\n",
    "  \"\"\"\n",
    "  Given a team color and a board, it will use the word2vec model to return a valid clue\n",
    "  using various heuristics\n",
    "\n",
    "  Inputs:\n",
    "  - own_words is the list of your team's words\n",
    "  - opponent_words is words your other team has\n",
    "  - neutral_words are gray words, but we still don't want our team to select those\n",
    "  - asssasin_word is the assassin word\n",
    "  - model is the word2vec model used for the guessing\n",
    "\n",
    "  Output:\n",
    "  - A clue is a tuple that contains a one word string and an integer that\n",
    "    is the number of words associated with the clue in the format (clueword, n)\n",
    "  - valid_combo is the words intended to be guesses, written as a list of strings\n",
    "  \"\"\"\n",
    "\n",
    "  print(\"Please hold as the computer thinks of a clue. (May take up to 1 min)\")\n",
    "\n",
    "  valid_combo = []\n",
    "  num_words = 0\n",
    "  max_score = .5\n",
    "  clueword = \"\"\n",
    "  min_size = 1\n",
    "\n",
    "  # If there is only 1 remaining word, just use the most similar word to the last word\n",
    "  if len(own_words) == 1:\n",
    "    word, score = first_valid_word([own_words[0]], model.most_similar(positive=[own_words[0]], topn=100))\n",
    "    return (word, 1), own_words[0]\n",
    "  \n",
    "  if len(own_words) <= 2:\n",
    "    min_size = 0\n",
    "    \n",
    "  for i in range(min(4, len(own_words)), min_size, -1):\n",
    "      comb = combinations(own_words, i)\n",
    "      for combo in comb:\n",
    "        word, score = first_valid_word(combo, model.most_similar(positive=list(combo), topn=100))\n",
    "        print(f\"This is the word: {word}. This is the score: {score}. What combo? : {combo}\")\n",
    "        \n",
    "        # TODO: CHANGE SCORING SYSTEM\n",
    "        \n",
    "        # Checks to see if new similarity score is better than the previous.\n",
    "        # Slightly favors clues that hint at more words\n",
    "        if (score + i * 0.01) > max_score:\n",
    "          bad_clue = False\n",
    "        \n",
    "          if assassin_word != \"\" and wv.similarity(word, assassin_word) > 0.6:\n",
    "                continue   # clue doesn't work\n",
    "          \n",
    "          elif opponent_words is not []:\n",
    "            for bad_word in opponent_words:\n",
    "              if wv.similarity(word, bad_word) > 0.6:\n",
    "                bad_clue = True # clue doesn't work\n",
    "                break\n",
    "              \n",
    "            if bad_clue == True: # the clue is too related to one of the opponent words \n",
    "              continue\n",
    "\n",
    "          # Goes through neutral words to see if they are too related to the clue   \n",
    "          elif neutral_words is not []:\n",
    "            for neutral_word in neutral_words:\n",
    "              if wv.similarity(word, neutral_word) > 0.69:\n",
    "                bad_clue = True   # clue doesn't work\n",
    "                break\n",
    "\n",
    "            if bad_clue == True: # the clue is too related to one of the neutral words \n",
    "              continue\n",
    "\n",
    "          else: # clue works so we update it \n",
    "            max_score = score + i * 0.01\n",
    "            num_words = i\n",
    "            valid_combo = combo\n",
    "\n",
    "\n",
    "  return (clueword, len(valid_combo)), valid_combo"
   ]
  },
  {
   "cell_type": "code",
   "execution_count": 15,
   "metadata": {},
   "outputs": [],
   "source": [
    "def does_not_share(a, b):\n",
    "  \"\"\" \n",
    "  helper function that checks that string a has no characters from string b \n",
    "  \"\"\"\n",
    "  for i in a:\n",
    "    if i in b:\n",
    "      return False\n",
    "  return True"
   ]
  },
  {
   "cell_type": "code",
   "execution_count": 3,
   "metadata": {},
   "outputs": [
    {
     "data": {
      "text/plain": [
       "0.21799734"
      ]
     },
     "execution_count": 3,
     "metadata": {},
     "output_type": "execute_result"
    }
   ],
   "source": [
    "score = wv.similarity(\"Canada\", \"maple\")\n",
    "score"
   ]
  },
  {
   "cell_type": "code",
   "execution_count": 67,
   "metadata": {},
   "outputs": [
    {
     "name": "stdout",
     "output_type": "stream",
     "text": [
      "This is the word: pear. This is the score: 0.7717723250389099. What combo? : ('apple', 'banana', 'apricot', 'fruit')\n",
      "This is the word: pear. This is the score: 0.6996662616729736. What combo? : ('apple', 'banana', 'apricot', 'building')\n",
      "This is the word: pear. This is the score: 0.7239149808883667. What combo? : ('apple', 'banana', 'apricot', 'pterodactyl')\n",
      "This is the word: pear. This is the score: 0.7080244421958923. What combo? : ('apple', 'banana', 'apricot', 'China')\n",
      "This is the word: mango. This is the score: 0.6903691291809082. What combo? : ('apple', 'banana', 'fruit', 'building')\n",
      "This is the word: melon. This is the score: 0.7031235694885254. What combo? : ('apple', 'banana', 'fruit', 'pterodactyl')\n",
      "This is the word: mango. This is the score: 0.6880034804344177. What combo? : ('apple', 'banana', 'fruit', 'China')\n",
      "This is the word: None. This is the score: 0. What combo? : ('apple', 'banana', 'building', 'pterodactyl')\n",
      "This is the word: None. This is the score: 0. What combo? : ('apple', 'banana', 'building', 'China')\n",
      "This is the word: None. This is the score: 0. What combo? : ('apple', 'banana', 'pterodactyl', 'China')\n",
      "This is the word: pear. This is the score: 0.7168633937835693. What combo? : ('apple', 'apricot', 'fruit', 'building')\n",
      "This is the word: pear. This is the score: 0.75970059633255. What combo? : ('apple', 'apricot', 'fruit', 'pterodactyl')\n",
      "This is the word: pear. This is the score: 0.7329327464103699. What combo? : ('apple', 'apricot', 'fruit', 'China')\n",
      "This is the word: pear. This is the score: 0.6414530873298645. What combo? : ('apple', 'apricot', 'building', 'pterodactyl')\n",
      "This is the word: None. This is the score: 0. What combo? : ('apple', 'apricot', 'building', 'China')\n",
      "This is the word: pear. This is the score: 0.6470804214477539. What combo? : ('apple', 'apricot', 'pterodactyl', 'China')\n",
      "This is the word: pear. This is the score: 0.606331467628479. What combo? : ('apple', 'fruit', 'building', 'pterodactyl')\n",
      "This is the word: None. This is the score: 0. What combo? : ('apple', 'fruit', 'building', 'China')\n",
      "This is the word: cherimoyas. This is the score: 0.6147714853286743. What combo? : ('apple', 'fruit', 'pterodactyl', 'China')\n",
      "This is the word: None. This is the score: 0. What combo? : ('apple', 'building', 'pterodactyl', 'China')\n",
      "This is the word: mango. This is the score: 0.7184370756149292. What combo? : ('banana', 'apricot', 'fruit', 'building')\n",
      "This is the word: pear. This is the score: 0.734017014503479. What combo? : ('banana', 'apricot', 'fruit', 'pterodactyl')\n",
      "This is the word: mango. This is the score: 0.7115490436553955. What combo? : ('banana', 'apricot', 'fruit', 'China')\n",
      "This is the word: pineapple. This is the score: 0.6052569150924683. What combo? : ('banana', 'apricot', 'building', 'pterodactyl')\n",
      "This is the word: longans. This is the score: 0.6041158437728882. What combo? : ('banana', 'apricot', 'building', 'China')\n",
      "This is the word: tamarinds. This is the score: 0.6150720119476318. What combo? : ('banana', 'apricot', 'pterodactyl', 'China')\n",
      "This is the word: None. This is the score: 0. What combo? : ('banana', 'fruit', 'building', 'pterodactyl')\n",
      "This is the word: None. This is the score: 0. What combo? : ('banana', 'fruit', 'building', 'China')\n",
      "This is the word: cherimoyas. This is the score: 0.6141397953033447. What combo? : ('banana', 'fruit', 'pterodactyl', 'China')\n",
      "This is the word: None. This is the score: 0. What combo? : ('banana', 'building', 'pterodactyl', 'China')\n",
      "This is the word: pear. This is the score: 0.6478307843208313. What combo? : ('apricot', 'fruit', 'building', 'pterodactyl')\n",
      "This is the word: longans. This is the score: 0.6148064136505127. What combo? : ('apricot', 'fruit', 'building', 'China')\n",
      "This is the word: pear. This is the score: 0.6511125564575195. What combo? : ('apricot', 'fruit', 'pterodactyl', 'China')\n",
      "This is the word: None. This is the score: 0. What combo? : ('apricot', 'building', 'pterodactyl', 'China')\n",
      "This is the word: None. This is the score: 0. What combo? : ('fruit', 'building', 'pterodactyl', 'China')\n",
      "This is the word: pear. This is the score: 0.7572252750396729. What combo? : ('apple', 'banana', 'apricot')\n",
      "This is the word: mango. This is the score: 0.7416869401931763. What combo? : ('apple', 'banana', 'fruit')\n",
      "This is the word: potato. This is the score: 0.6120748519897461. What combo? : ('apple', 'banana', 'building')\n",
      "This is the word: melon. This is the score: 0.6383446455001831. What combo? : ('apple', 'banana', 'pterodactyl')\n",
      "This is the word: cherimoyas. This is the score: 0.619328498840332. What combo? : ('apple', 'banana', 'China')\n",
      "This is the word: pear. This is the score: 0.7798565030097961. What combo? : ('apple', 'apricot', 'fruit')\n",
      "This is the word: pear. This is the score: 0.6601561307907104. What combo? : ('apple', 'apricot', 'building')\n",
      "This is the word: pear. This is the score: 0.710328221321106. What combo? : ('apple', 'apricot', 'pterodactyl')\n",
      "This is the word: pear. This is the score: 0.681869387626648. What combo? : ('apple', 'apricot', 'China')\n",
      "This is the word: pears. This is the score: 0.6364454030990601. What combo? : ('apple', 'fruit', 'building')\n",
      "This is the word: pear. This is the score: 0.6783100366592407. What combo? : ('apple', 'fruit', 'pterodactyl')\n",
      "This is the word: pears. This is the score: 0.6550185680389404. What combo? : ('apple', 'fruit', 'China')\n",
      "This is the word: None. This is the score: 0. What combo? : ('apple', 'building', 'pterodactyl')\n",
      "This is the word: None. This is the score: 0. What combo? : ('apple', 'building', 'China')\n",
      "This is the word: None. This is the score: 0. What combo? : ('apple', 'pterodactyl', 'China')\n",
      "This is the word: mango. This is the score: 0.7751940488815308. What combo? : ('banana', 'apricot', 'fruit')\n",
      "This is the word: mango. This is the score: 0.6379725337028503. What combo? : ('banana', 'apricot', 'building')\n",
      "This is the word: pear. This is the score: 0.6660671234130859. What combo? : ('banana', 'apricot', 'pterodactyl')\n",
      "This is the word: pomelo. This is the score: 0.6717261672019958. What combo? : ('banana', 'apricot', 'China')\n",
      "This is the word: mango. This is the score: 0.6477308869361877. What combo? : ('banana', 'fruit', 'building')\n",
      "This is the word: melon. This is the score: 0.6790039539337158. What combo? : ('banana', 'fruit', 'pterodactyl')\n",
      "This is the word: cherimoyas. This is the score: 0.6519985198974609. What combo? : ('banana', 'fruit', 'China')\n",
      "This is the word: None. This is the score: 0. What combo? : ('banana', 'building', 'pterodactyl')\n",
      "This is the word: None. This is the score: 0. What combo? : ('banana', 'building', 'China')\n",
      "This is the word: None. This is the score: 0. What combo? : ('banana', 'pterodactyl', 'China')\n",
      "This is the word: pears. This is the score: 0.659309446811676. What combo? : ('apricot', 'fruit', 'building')\n",
      "This is the word: pear. This is the score: 0.7272521257400513. What combo? : ('apricot', 'fruit', 'pterodactyl')\n",
      "This is the word: longans. This is the score: 0.6885995864868164. What combo? : ('apricot', 'fruit', 'China')\n",
      "This is the word: None. This is the score: 0. What combo? : ('apricot', 'building', 'pterodactyl')\n",
      "This is the word: None. This is the score: 0. What combo? : ('apricot', 'building', 'China')\n",
      "This is the word: None. This is the score: 0. What combo? : ('apricot', 'pterodactyl', 'China')\n",
      "This is the word: None. This is the score: 0. What combo? : ('fruit', 'building', 'pterodactyl')\n",
      "This is the word: None. This is the score: 0. What combo? : ('fruit', 'building', 'China')\n",
      "This is the word: None. This is the score: 0. What combo? : ('fruit', 'pterodactyl', 'China')\n",
      "This is the word: None. This is the score: 0. What combo? : ('building', 'pterodactyl', 'China')\n",
      "This is the word: mango. This is the score: 0.6922703981399536. What combo? : ('apple', 'banana')\n",
      "This is the word: pear. This is the score: 0.7638563513755798. What combo? : ('apple', 'apricot')\n",
      "This is the word: pears. This is the score: 0.7153358459472656. What combo? : ('apple', 'fruit')\n",
      "This is the word: None. This is the score: 0. What combo? : ('apple', 'building')\n",
      "This is the word: None. This is the score: 0. What combo? : ('apple', 'pterodactyl')\n",
      "This is the word: None. This is the score: 0. What combo? : ('apple', 'China')\n"
     ]
    },
    {
     "name": "stdout",
     "output_type": "stream",
     "text": [
      "This is the word: mango. This is the score: 0.7305594086647034. What combo? : ('banana', 'apricot')\n",
      "This is the word: mango. This is the score: 0.7448898553848267. What combo? : ('banana', 'fruit')\n",
      "This is the word: None. This is the score: 0. What combo? : ('banana', 'building')\n",
      "This is the word: None. This is the score: 0. What combo? : ('banana', 'pterodactyl')\n",
      "This is the word: Taiwan. This is the score: 0.6052502393722534. What combo? : ('banana', 'China')\n",
      "This is the word: pear. This is the score: 0.7662553787231445. What combo? : ('apricot', 'fruit')\n",
      "This is the word: None. This is the score: 0. What combo? : ('apricot', 'building')\n",
      "This is the word: canteloupe. This is the score: 0.6144038438796997. What combo? : ('apricot', 'pterodactyl')\n",
      "This is the word: osmanthus. This is the score: 0.6071505546569824. What combo? : ('apricot', 'China')\n",
      "This is the word: None. This is the score: 0. What combo? : ('fruit', 'building')\n",
      "This is the word: melon. This is the score: 0.6123210191726685. What combo? : ('fruit', 'pterodactyl')\n",
      "This is the word: None. This is the score: 0. What combo? : ('fruit', 'China')\n",
      "This is the word: None. This is the score: 0. What combo? : ('building', 'pterodactyl')\n",
      "This is the word: None. This is the score: 0. What combo? : ('building', 'China')\n",
      "This is the word: Chinese. This is the score: 0.6063451170921326. What combo? : ('pterodactyl', 'China')\n",
      "This is the word: pear. This is the score: 0.6450697183609009. What combo? : ('apple',)\n",
      "This is the word: pineapple. This is the score: 0.6587537527084351. What combo? : ('banana',)\n",
      "This is the word: pear. This is the score: 0.7096841335296631. What combo? : ('apricot',)\n",
      "This is the word: cherries. This is the score: 0.6903518438339233. What combo? : ('fruit',)\n",
      "This is the word: Building. This is the score: 0.6737184524536133. What combo? : ('building',)\n",
      "This is the word: Quetzalcoatlus. This is the score: 0.6030545830726624. What combo? : ('pterodactyl',)\n",
      "This is the word: Chinese. This is the score: 0.7678080797195435. What combo? : ('China',)\n"
     ]
    }
   ],
   "source": [
    "clue, intended = give_clue([\"apple\", \"banana\", \"apricot\", \"fruit\", \"building\", \"pterodactyl\", \"China\"], wv)"
   ]
  },
  {
   "cell_type": "code",
   "execution_count": 68,
   "metadata": {},
   "outputs": [
    {
     "data": {
      "text/plain": [
       "('pear', 4)"
      ]
     },
     "execution_count": 68,
     "metadata": {},
     "output_type": "execute_result"
    }
   ],
   "source": [
    "clue"
   ]
  },
  {
   "cell_type": "code",
   "execution_count": 69,
   "metadata": {},
   "outputs": [
    {
     "data": {
      "text/plain": [
       "('apple', 'banana', 'apricot', 'fruit')"
      ]
     },
     "execution_count": 69,
     "metadata": {},
     "output_type": "execute_result"
    }
   ],
   "source": [
    "intended"
   ]
  },
  {
   "cell_type": "code",
   "execution_count": 78,
   "metadata": {},
   "outputs": [
    {
     "name": "stdout",
     "output_type": "stream",
     "text": [
      "This is the word: None. This is the score: 0. What combo? : ('screen', 'dinosaur', 'pupil', 'Africa')\n",
      "This is the word: None. This is the score: 0. What combo? : ('screen', 'dinosaur', 'pupil', 'lion')\n",
      "This is the word: None. This is the score: 0. What combo? : ('screen', 'dinosaur', 'pupil', 'fly')\n",
      "This is the word: None. This is the score: 0. What combo? : ('screen', 'dinosaur', 'pupil', 'belt')\n",
      "This is the word: None. This is the score: 0. What combo? : ('screen', 'dinosaur', 'pupil', 'spell')\n",
      "This is the word: None. This is the score: 0. What combo? : ('screen', 'dinosaur', 'Africa', 'lion')\n",
      "This is the word: None. This is the score: 0. What combo? : ('screen', 'dinosaur', 'Africa', 'fly')\n",
      "This is the word: None. This is the score: 0. What combo? : ('screen', 'dinosaur', 'Africa', 'belt')\n",
      "This is the word: None. This is the score: 0. What combo? : ('screen', 'dinosaur', 'Africa', 'spell')\n",
      "This is the word: None. This is the score: 0. What combo? : ('screen', 'dinosaur', 'lion', 'fly')\n",
      "This is the word: None. This is the score: 0. What combo? : ('screen', 'dinosaur', 'lion', 'belt')\n",
      "This is the word: None. This is the score: 0. What combo? : ('screen', 'dinosaur', 'lion', 'spell')\n",
      "This is the word: None. This is the score: 0. What combo? : ('screen', 'dinosaur', 'fly', 'belt')\n",
      "This is the word: None. This is the score: 0. What combo? : ('screen', 'dinosaur', 'fly', 'spell')\n",
      "This is the word: None. This is the score: 0. What combo? : ('screen', 'dinosaur', 'belt', 'spell')\n",
      "This is the word: None. This is the score: 0. What combo? : ('screen', 'pupil', 'Africa', 'lion')\n",
      "This is the word: None. This is the score: 0. What combo? : ('screen', 'pupil', 'Africa', 'fly')\n",
      "This is the word: None. This is the score: 0. What combo? : ('screen', 'pupil', 'Africa', 'belt')\n",
      "This is the word: None. This is the score: 0. What combo? : ('screen', 'pupil', 'Africa', 'spell')\n",
      "This is the word: None. This is the score: 0. What combo? : ('screen', 'pupil', 'lion', 'fly')\n",
      "This is the word: None. This is the score: 0. What combo? : ('screen', 'pupil', 'lion', 'belt')\n",
      "This is the word: None. This is the score: 0. What combo? : ('screen', 'pupil', 'lion', 'spell')\n",
      "This is the word: None. This is the score: 0. What combo? : ('screen', 'pupil', 'fly', 'belt')\n",
      "This is the word: None. This is the score: 0. What combo? : ('screen', 'pupil', 'fly', 'spell')\n",
      "This is the word: None. This is the score: 0. What combo? : ('screen', 'pupil', 'belt', 'spell')\n",
      "This is the word: None. This is the score: 0. What combo? : ('screen', 'Africa', 'lion', 'fly')\n",
      "This is the word: None. This is the score: 0. What combo? : ('screen', 'Africa', 'lion', 'belt')\n",
      "This is the word: None. This is the score: 0. What combo? : ('screen', 'Africa', 'lion', 'spell')\n",
      "This is the word: None. This is the score: 0. What combo? : ('screen', 'Africa', 'fly', 'belt')\n",
      "This is the word: None. This is the score: 0. What combo? : ('screen', 'Africa', 'fly', 'spell')\n",
      "This is the word: None. This is the score: 0. What combo? : ('screen', 'Africa', 'belt', 'spell')\n",
      "This is the word: None. This is the score: 0. What combo? : ('screen', 'lion', 'fly', 'belt')\n",
      "This is the word: None. This is the score: 0. What combo? : ('screen', 'lion', 'fly', 'spell')\n",
      "This is the word: None. This is the score: 0. What combo? : ('screen', 'lion', 'belt', 'spell')\n",
      "This is the word: None. This is the score: 0. What combo? : ('screen', 'fly', 'belt', 'spell')\n",
      "This is the word: None. This is the score: 0. What combo? : ('dinosaur', 'pupil', 'Africa', 'lion')\n",
      "This is the word: None. This is the score: 0. What combo? : ('dinosaur', 'pupil', 'Africa', 'fly')\n",
      "This is the word: None. This is the score: 0. What combo? : ('dinosaur', 'pupil', 'Africa', 'belt')\n",
      "This is the word: None. This is the score: 0. What combo? : ('dinosaur', 'pupil', 'Africa', 'spell')\n",
      "This is the word: None. This is the score: 0. What combo? : ('dinosaur', 'pupil', 'lion', 'fly')\n",
      "This is the word: None. This is the score: 0. What combo? : ('dinosaur', 'pupil', 'lion', 'belt')\n",
      "This is the word: None. This is the score: 0. What combo? : ('dinosaur', 'pupil', 'lion', 'spell')\n",
      "This is the word: None. This is the score: 0. What combo? : ('dinosaur', 'pupil', 'fly', 'belt')\n",
      "This is the word: None. This is the score: 0. What combo? : ('dinosaur', 'pupil', 'fly', 'spell')\n",
      "This is the word: None. This is the score: 0. What combo? : ('dinosaur', 'pupil', 'belt', 'spell')\n",
      "This is the word: None. This is the score: 0. What combo? : ('dinosaur', 'Africa', 'lion', 'fly')\n",
      "This is the word: None. This is the score: 0. What combo? : ('dinosaur', 'Africa', 'lion', 'belt')\n",
      "This is the word: None. This is the score: 0. What combo? : ('dinosaur', 'Africa', 'lion', 'spell')\n",
      "This is the word: None. This is the score: 0. What combo? : ('dinosaur', 'Africa', 'fly', 'belt')\n",
      "This is the word: None. This is the score: 0. What combo? : ('dinosaur', 'Africa', 'fly', 'spell')\n",
      "This is the word: None. This is the score: 0. What combo? : ('dinosaur', 'Africa', 'belt', 'spell')\n",
      "This is the word: None. This is the score: 0. What combo? : ('dinosaur', 'lion', 'fly', 'belt')\n",
      "This is the word: None. This is the score: 0. What combo? : ('dinosaur', 'lion', 'fly', 'spell')\n",
      "This is the word: None. This is the score: 0. What combo? : ('dinosaur', 'lion', 'belt', 'spell')\n",
      "This is the word: None. This is the score: 0. What combo? : ('dinosaur', 'fly', 'belt', 'spell')\n",
      "This is the word: None. This is the score: 0. What combo? : ('pupil', 'Africa', 'lion', 'fly')\n",
      "This is the word: None. This is the score: 0. What combo? : ('pupil', 'Africa', 'lion', 'belt')\n",
      "This is the word: None. This is the score: 0. What combo? : ('pupil', 'Africa', 'lion', 'spell')\n",
      "This is the word: None. This is the score: 0. What combo? : ('pupil', 'Africa', 'fly', 'belt')\n",
      "This is the word: None. This is the score: 0. What combo? : ('pupil', 'Africa', 'fly', 'spell')\n",
      "This is the word: None. This is the score: 0. What combo? : ('pupil', 'Africa', 'belt', 'spell')\n",
      "This is the word: None. This is the score: 0. What combo? : ('pupil', 'lion', 'fly', 'belt')\n",
      "This is the word: None. This is the score: 0. What combo? : ('pupil', 'lion', 'fly', 'spell')\n",
      "This is the word: None. This is the score: 0. What combo? : ('pupil', 'lion', 'belt', 'spell')\n",
      "This is the word: None. This is the score: 0. What combo? : ('pupil', 'fly', 'belt', 'spell')\n",
      "This is the word: None. This is the score: 0. What combo? : ('Africa', 'lion', 'fly', 'belt')\n",
      "This is the word: None. This is the score: 0. What combo? : ('Africa', 'lion', 'fly', 'spell')\n",
      "This is the word: None. This is the score: 0. What combo? : ('Africa', 'lion', 'belt', 'spell')\n",
      "This is the word: None. This is the score: 0. What combo? : ('Africa', 'fly', 'belt', 'spell')\n",
      "This is the word: None. This is the score: 0. What combo? : ('lion', 'fly', 'belt', 'spell')\n",
      "This is the word: None. This is the score: 0. What combo? : ('screen', 'dinosaur', 'pupil')\n",
      "This is the word: None. This is the score: 0. What combo? : ('screen', 'dinosaur', 'Africa')\n",
      "This is the word: gorilla. This is the score: 0.6084641218185425. What combo? : ('screen', 'dinosaur', 'lion')\n",
      "This is the word: None. This is the score: 0. What combo? : ('screen', 'dinosaur', 'fly')\n",
      "This is the word: None. This is the score: 0. What combo? : ('screen', 'dinosaur', 'belt')\n",
      "This is the word: None. This is the score: 0. What combo? : ('screen', 'dinosaur', 'spell')\n",
      "This is the word: None. This is the score: 0. What combo? : ('screen', 'pupil', 'Africa')\n",
      "This is the word: None. This is the score: 0. What combo? : ('screen', 'pupil', 'lion')\n",
      "This is the word: None. This is the score: 0. What combo? : ('screen', 'pupil', 'fly')\n",
      "This is the word: None. This is the score: 0. What combo? : ('screen', 'pupil', 'belt')\n",
      "This is the word: None. This is the score: 0. What combo? : ('screen', 'pupil', 'spell')\n",
      "This is the word: None. This is the score: 0. What combo? : ('screen', 'Africa', 'lion')\n",
      "This is the word: None. This is the score: 0. What combo? : ('screen', 'Africa', 'fly')\n",
      "This is the word: None. This is the score: 0. What combo? : ('screen', 'Africa', 'belt')\n",
      "This is the word: None. This is the score: 0. What combo? : ('screen', 'Africa', 'spell')\n",
      "This is the word: None. This is the score: 0. What combo? : ('screen', 'lion', 'fly')\n"
     ]
    },
    {
     "name": "stdout",
     "output_type": "stream",
     "text": [
      "This is the word: None. This is the score: 0. What combo? : ('screen', 'lion', 'belt')\n",
      "This is the word: None. This is the score: 0. What combo? : ('screen', 'lion', 'spell')\n",
      "This is the word: None. This is the score: 0. What combo? : ('screen', 'fly', 'belt')\n",
      "This is the word: None. This is the score: 0. What combo? : ('screen', 'fly', 'spell')\n",
      "This is the word: None. This is the score: 0. What combo? : ('screen', 'belt', 'spell')\n",
      "This is the word: None. This is the score: 0. What combo? : ('dinosaur', 'pupil', 'Africa')\n",
      "This is the word: None. This is the score: 0. What combo? : ('dinosaur', 'pupil', 'lion')\n",
      "This is the word: None. This is the score: 0. What combo? : ('dinosaur', 'pupil', 'fly')\n",
      "This is the word: None. This is the score: 0. What combo? : ('dinosaur', 'pupil', 'belt')\n",
      "This is the word: None. This is the score: 0. What combo? : ('dinosaur', 'pupil', 'spell')\n",
      "This is the word: None. This is the score: 0. What combo? : ('dinosaur', 'Africa', 'lion')\n",
      "This is the word: None. This is the score: 0. What combo? : ('dinosaur', 'Africa', 'fly')\n",
      "This is the word: None. This is the score: 0. What combo? : ('dinosaur', 'Africa', 'belt')\n",
      "This is the word: None. This is the score: 0. What combo? : ('dinosaur', 'Africa', 'spell')\n",
      "This is the word: None. This is the score: 0. What combo? : ('dinosaur', 'lion', 'fly')\n",
      "This is the word: None. This is the score: 0. What combo? : ('dinosaur', 'lion', 'belt')\n",
      "This is the word: None. This is the score: 0. What combo? : ('dinosaur', 'lion', 'spell')\n",
      "This is the word: None. This is the score: 0. What combo? : ('dinosaur', 'fly', 'belt')\n",
      "This is the word: None. This is the score: 0. What combo? : ('dinosaur', 'fly', 'spell')\n",
      "This is the word: None. This is the score: 0. What combo? : ('dinosaur', 'belt', 'spell')\n",
      "This is the word: None. This is the score: 0. What combo? : ('pupil', 'Africa', 'lion')\n",
      "This is the word: None. This is the score: 0. What combo? : ('pupil', 'Africa', 'fly')\n",
      "This is the word: None. This is the score: 0. What combo? : ('pupil', 'Africa', 'belt')\n",
      "This is the word: None. This is the score: 0. What combo? : ('pupil', 'Africa', 'spell')\n",
      "This is the word: None. This is the score: 0. What combo? : ('pupil', 'lion', 'fly')\n",
      "This is the word: None. This is the score: 0. What combo? : ('pupil', 'lion', 'belt')\n",
      "This is the word: None. This is the score: 0. What combo? : ('pupil', 'lion', 'spell')\n",
      "This is the word: None. This is the score: 0. What combo? : ('pupil', 'fly', 'belt')\n",
      "This is the word: None. This is the score: 0. What combo? : ('pupil', 'fly', 'spell')\n",
      "This is the word: None. This is the score: 0. What combo? : ('pupil', 'belt', 'spell')\n",
      "This is the word: None. This is the score: 0. What combo? : ('Africa', 'lion', 'fly')\n",
      "This is the word: None. This is the score: 0. What combo? : ('Africa', 'lion', 'belt')\n",
      "This is the word: None. This is the score: 0. What combo? : ('Africa', 'lion', 'spell')\n",
      "This is the word: None. This is the score: 0. What combo? : ('Africa', 'fly', 'belt')\n",
      "This is the word: None. This is the score: 0. What combo? : ('Africa', 'fly', 'spell')\n",
      "This is the word: None. This is the score: 0. What combo? : ('Africa', 'belt', 'spell')\n",
      "This is the word: None. This is the score: 0. What combo? : ('lion', 'fly', 'belt')\n",
      "This is the word: None. This is the score: 0. What combo? : ('lion', 'fly', 'spell')\n",
      "This is the word: None. This is the score: 0. What combo? : ('lion', 'belt', 'spell')\n",
      "This is the word: None. This is the score: 0. What combo? : ('fly', 'belt', 'spell')\n",
      "This is the word: None. This is the score: 0. What combo? : ('screen', 'dinosaur')\n",
      "This is the word: None. This is the score: 0. What combo? : ('screen', 'pupil')\n",
      "This is the word: None. This is the score: 0. What combo? : ('screen', 'Africa')\n",
      "This is the word: None. This is the score: 0. What combo? : ('screen', 'lion')\n",
      "This is the word: None. This is the score: 0. What combo? : ('screen', 'fly')\n",
      "This is the word: None. This is the score: 0. What combo? : ('screen', 'belt')\n",
      "This is the word: None. This is the score: 0. What combo? : ('screen', 'spell')\n",
      "This is the word: None. This is the score: 0. What combo? : ('dinosaur', 'pupil')\n",
      "This is the word: continent. This is the score: 0.6070168018341064. What combo? : ('dinosaur', 'Africa')\n",
      "This is the word: gorilla. This is the score: 0.6368676424026489. What combo? : ('dinosaur', 'lion')\n",
      "This is the word: None. This is the score: 0. What combo? : ('dinosaur', 'fly')\n",
      "This is the word: None. This is the score: 0. What combo? : ('dinosaur', 'belt')\n",
      "This is the word: None. This is the score: 0. What combo? : ('dinosaur', 'spell')\n",
      "This is the word: None. This is the score: 0. What combo? : ('pupil', 'Africa')\n",
      "This is the word: None. This is the score: 0. What combo? : ('pupil', 'lion')\n",
      "This is the word: None. This is the score: 0. What combo? : ('pupil', 'fly')\n",
      "This is the word: None. This is the score: 0. What combo? : ('pupil', 'belt')\n",
      "This is the word: None. This is the score: 0. What combo? : ('pupil', 'spell')\n",
      "This is the word: None. This is the score: 0. What combo? : ('Africa', 'lion')\n",
      "This is the word: continent. This is the score: 0.6002309918403625. What combo? : ('Africa', 'fly')\n",
      "This is the word: None. This is the score: 0. What combo? : ('Africa', 'belt')\n",
      "This is the word: None. This is the score: 0. What combo? : ('Africa', 'spell')\n",
      "This is the word: None. This is the score: 0. What combo? : ('lion', 'fly')\n",
      "This is the word: None. This is the score: 0. What combo? : ('lion', 'belt')\n",
      "This is the word: None. This is the score: 0. What combo? : ('lion', 'spell')\n",
      "This is the word: None. This is the score: 0. What combo? : ('fly', 'belt')\n",
      "This is the word: None. This is the score: 0. What combo? : ('fly', 'spell')\n",
      "This is the word: None. This is the score: 0. What combo? : ('belt', 'spell')\n"
     ]
    }
   ],
   "source": [
    "clue, intended = give_clue([\"screen\", \"dinosaur\", \"pupil\", \"Africa\", \"lion\", \"fly\", \"belt\", \"spell\"], wv)"
   ]
  },
  {
   "cell_type": "code",
   "execution_count": 79,
   "metadata": {
    "scrolled": true
   },
   "outputs": [
    {
     "data": {
      "text/plain": [
       "('gorilla', 2)"
      ]
     },
     "execution_count": 79,
     "metadata": {},
     "output_type": "execute_result"
    }
   ],
   "source": [
    "clue"
   ]
  },
  {
   "cell_type": "code",
   "execution_count": 80,
   "metadata": {},
   "outputs": [
    {
     "data": {
      "text/plain": [
       "('dinosaur', 'lion')"
      ]
     },
     "execution_count": 80,
     "metadata": {},
     "output_type": "execute_result"
    }
   ],
   "source": [
    "intended"
   ]
  },
  {
   "cell_type": "code",
   "execution_count": 90,
   "metadata": {},
   "outputs": [],
   "source": [
    "own_words = [\"phoenix\", \"pirate\", \"leprechaun\", \"needle\", \"kid\", \"card\", \"diamond\", \"ivory\", \"paste\"]\n",
    "bad_words = [\"Jupiter\", \"laser\", \"eye\", \"olive\", \"bottle\", \"disease\", \"moon\", \"bond\"]\n",
    "neutral_words = [\"engine\", \"shot\", \"spider\", \"bark\", \"India\", \"maple\", \"plate\"]\n",
    "assassin = \"field\""
   ]
  },
  {
   "cell_type": "code",
   "execution_count": 104,
   "metadata": {},
   "outputs": [
    {
     "name": "stdout",
     "output_type": "stream",
     "text": [
      "Please hold as the computer thinks of a clue. (May take up to 1 min)\n",
      "THIS IS DA ASS: field\n",
      "THIS IS DA ASS: field\n",
      "THIS IS DA ASS: field\n",
      "THIS IS DA ASS: field\n",
      "THIS IS DA ASS: field\n",
      "THIS IS DA ASS: field\n"
     ]
    }
   ],
   "source": [
    "clue, intended = give_clue(own_words, wv, opponent_words = bad_words, neutral_words = neutral_words, assassin_word = assassin)"
   ]
  },
  {
   "cell_type": "code",
   "execution_count": 105,
   "metadata": {},
   "outputs": [
    {
     "data": {
      "text/plain": [
       "('', 0)"
      ]
     },
     "execution_count": 105,
     "metadata": {},
     "output_type": "execute_result"
    }
   ],
   "source": [
    "clue"
   ]
  },
  {
   "cell_type": "code",
   "execution_count": null,
   "metadata": {},
   "outputs": [],
   "source": []
  }
 ],
 "metadata": {
  "kernelspec": {
   "display_name": "Python 3",
   "language": "python",
   "name": "python3"
  },
  "language_info": {
   "codemirror_mode": {
    "name": "ipython",
    "version": 3
   },
   "file_extension": ".py",
   "mimetype": "text/x-python",
   "name": "python",
   "nbconvert_exporter": "python",
   "pygments_lexer": "ipython3",
   "version": "3.7.6"
  }
 },
 "nbformat": 4,
 "nbformat_minor": 4
}
